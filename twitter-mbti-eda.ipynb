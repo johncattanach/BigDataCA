{
 "cells": [
  {
   "cell_type": "markdown",
   "id": "2d1307c6",
   "metadata": {},
   "source": [
    "from https://www.kaggle.com/datasets/mazlumi/mbti-personality-type-twitter-dataset/code"
   ]
  },
  {
   "cell_type": "code",
   "execution_count": 1,
   "id": "ca51a0b2",
   "metadata": {},
   "outputs": [],
   "source": [
    "import pandas as pd"
   ]
  },
  {
   "cell_type": "code",
   "execution_count": 26,
   "id": "e2ef0354",
   "metadata": {},
   "outputs": [
    {
     "data": {
      "text/html": [
       "<div>\n",
       "<style scoped>\n",
       "    .dataframe tbody tr th:only-of-type {\n",
       "        vertical-align: middle;\n",
       "    }\n",
       "\n",
       "    .dataframe tbody tr th {\n",
       "        vertical-align: top;\n",
       "    }\n",
       "\n",
       "    .dataframe thead th {\n",
       "        text-align: right;\n",
       "    }\n",
       "</style>\n",
       "<table border=\"1\" class=\"dataframe\">\n",
       "  <thead>\n",
       "    <tr style=\"text-align: right;\">\n",
       "      <th></th>\n",
       "      <th>Unnamed: 0</th>\n",
       "      <th>text</th>\n",
       "      <th>label</th>\n",
       "    </tr>\n",
       "  </thead>\n",
       "  <tbody>\n",
       "    <tr>\n",
       "      <th>0</th>\n",
       "      <td>0</td>\n",
       "      <td>@Pericles216 @HierBeforeTheAC @Sachinettiyil T...</td>\n",
       "      <td>intj</td>\n",
       "    </tr>\n",
       "    <tr>\n",
       "      <th>1</th>\n",
       "      <td>1</td>\n",
       "      <td>@Hispanthicckk Being you makes you look cute||...</td>\n",
       "      <td>intj</td>\n",
       "    </tr>\n",
       "    <tr>\n",
       "      <th>2</th>\n",
       "      <td>2</td>\n",
       "      <td>@Alshymi Les balles sont réelles et sont tirée...</td>\n",
       "      <td>intj</td>\n",
       "    </tr>\n",
       "    <tr>\n",
       "      <th>3</th>\n",
       "      <td>3</td>\n",
       "      <td>I'm like entp but idiotic|||Hey boy, do you wa...</td>\n",
       "      <td>intj</td>\n",
       "    </tr>\n",
       "    <tr>\n",
       "      <th>4</th>\n",
       "      <td>4</td>\n",
       "      <td>@kaeshurr1 Give it to @ZargarShanif ... He has...</td>\n",
       "      <td>intj</td>\n",
       "    </tr>\n",
       "  </tbody>\n",
       "</table>\n",
       "</div>"
      ],
      "text/plain": [
       "   Unnamed: 0                                               text label\n",
       "0           0  @Pericles216 @HierBeforeTheAC @Sachinettiyil T...  intj\n",
       "1           1  @Hispanthicckk Being you makes you look cute||...  intj\n",
       "2           2  @Alshymi Les balles sont réelles et sont tirée...  intj\n",
       "3           3  I'm like entp but idiotic|||Hey boy, do you wa...  intj\n",
       "4           4  @kaeshurr1 Give it to @ZargarShanif ... He has...  intj"
      ]
     },
     "execution_count": 26,
     "metadata": {},
     "output_type": "execute_result"
    }
   ],
   "source": [
    "df=pd.read_csv('twitter_MBTI.csv')\n",
    "df.head()"
   ]
  },
  {
   "cell_type": "code",
   "execution_count": 4,
   "id": "99f09193",
   "metadata": {},
   "outputs": [
    {
     "data": {
      "text/plain": [
       "<AxesSubplot:>"
      ]
     },
     "execution_count": 4,
     "metadata": {},
     "output_type": "execute_result"
    },
    {
     "data": {
      "image/png": "[encoded data removed]",
      "text/plain": [
       "<Figure size 640x480 with 1 Axes>"
      ]
     },
     "metadata": {},
     "output_type": "display_data"
    }
   ],
   "source": [
    "df.label.hist()"
   ]
  },
  {
   "cell_type": "code",
   "execution_count": 75,
   "id": "6a506f79",
   "metadata": {},
   "outputs": [
    {
     "data": {
      "text/plain": [
       "'xxx  zzz'"
      ]
     },
     "execution_count": 75,
     "metadata": {},
     "output_type": "execute_result"
    }
   ],
   "source": [
    "import re\n",
    "re.sub('@[^\\s]*','','xxx @yz zzz')"
   ]
  },
  {
   "cell_type": "code",
   "execution_count": 79,
   "id": "019016a2",
   "metadata": {},
   "outputs": [
    {
     "data": {
      "text/plain": [
       "0      xxx  zzz\n",
       "1    start  end\n",
       "dtype: object"
      ]
     },
     "execution_count": 79,
     "metadata": {},
     "output_type": "execute_result"
    }
   ],
   "source": [
    "# nb each text contains multiple tweets seperated with ||| Was going to burst these, but don'tthink it adds value\n",
    "# but definitely works removing @handles, and urls (probably)\n",
    "import re\n",
    "def rmhand(s):\n",
    "    return re.sub('@[^\\s]*','',s)\n",
    "def rmurl(s):\n",
    "    return re.sub('https://[^\\s]*','',s)\n",
    "def clean_tweets(s):\n",
    "    s=s.apply( rmhand )\n",
    "    s=s.apply(rmurl)\n",
    "    return s\n",
    "test=pd.Series(['xxx @yz zzz','start https://spug end'])\n",
    "clean_tweets(test)"
   ]
  },
  {
   "cell_type": "code",
   "execution_count": 92,
   "id": "be6198dd",
   "metadata": {},
   "outputs": [
    {
     "name": "stdout",
     "output_type": "stream",
     "text": [
      "['intj' 'intp' 'entj' 'entp' 'infj' 'infp' 'enfj' 'enfp' 'istj' 'isfj'\n",
      " 'estj' 'esfj' 'istp' 'isfp' 'estp' 'esfp']\n",
      "intj (81, 3)\n",
      "intp (161, 3)\n",
      "entj (241, 3)\n",
      "entp (321, 3)\n",
      "infj (401, 3)\n",
      "infp (481, 3)\n",
      "enfj (561, 3)\n",
      "enfp (641, 3)\n",
      "istj (721, 3)\n",
      "isfj (801, 3)\n",
      "estj (881, 3)\n",
      "esfj (961, 3)\n",
      "istp (1041, 3)\n",
      "isfp (1121, 3)\n",
      "estp (1201, 3)\n",
      "esfp (1281, 3)\n"
     ]
    },
    {
     "data": {
      "text/plain": [
       "<AxesSubplot:>"
      ]
     },
     "execution_count": 92,
     "metadata": {},
     "output_type": "execute_result"
    },
    {
     "data": {
      "image/png": "[encoded data removed]",
      "text/plain": [
       "<Figure size 640x480 with 1 Axes>"
      ]
     },
     "metadata": {},
     "output_type": "display_data"
    }
   ],
   "source": [
    "# get fully balanced sample\n",
    "# firstly get labels\n",
    "types=df.label.unique()\n",
    "print(types)\n",
    "# then get nsamp of each\n",
    "nsamp=80\n",
    "t='intj'\n",
    "df.query('label==\"'+t+'\"')\n",
    "working_df=df.head(1)\n",
    "for t in types:    \n",
    "    working_df=pd.concat([working_df,df.query('label==\"'+t+'\"').sample(nsamp)])\n",
    "    print(t,working_df.shape)\n",
    "# clean it\n",
    "working_df.text=clean_tweets(working_df.text)\n",
    "working_df.label.hist()  \n",
    "    "
   ]
  },
  {
   "cell_type": "code",
   "execution_count": 93,
   "id": "26c69796",
   "metadata": {},
   "outputs": [],
   "source": [
    "# rename our data so I can copy paste mueller code\n",
    "bards_words=working_df.text"
   ]
  },
  {
   "cell_type": "code",
   "execution_count": 94,
   "id": "a14c8b61",
   "metadata": {},
   "outputs": [],
   "source": [
    "# pp 35\n",
    "from sklearn.feature_extraction.text import CountVectorizer\n",
    "vect=CountVectorizer()"
   ]
  },
  {
   "cell_type": "code",
   "execution_count": 95,
   "id": "a0405d17",
   "metadata": {},
   "outputs": [
    {
     "name": "stdout",
     "output_type": "stream",
     "text": [
      "size 77320\n"
     ]
    }
   ],
   "source": [
    "vect.fit(working_df.text)\n",
    "print(f\"size {len(vect.vocabulary_)}\")"
   ]
  },
  {
   "cell_type": "code",
   "execution_count": 96,
   "id": "7d999dee",
   "metadata": {},
   "outputs": [],
   "source": [
    "#print(f\"content {vect.vocabulary_}\")"
   ]
  },
  {
   "cell_type": "code",
   "execution_count": 97,
   "id": "60d7db67",
   "metadata": {},
   "outputs": [
    {
     "name": "stdout",
     "output_type": "stream",
     "text": [
      "bag_of_words: <1281x77320 sparse matrix of type '<class 'numpy.int64'>'\n",
      "\twith 668319 stored elements in Compressed Sparse Row format>\n"
     ]
    }
   ],
   "source": [
    "bag_of_words = vect.transform(bards_words)\n",
    "print(\"bag_of_words: {}\".format(repr(bag_of_words)))"
   ]
  },
  {
   "cell_type": "code",
   "execution_count": 98,
   "id": "8ceb7479",
   "metadata": {},
   "outputs": [
    {
     "name": "stdout",
     "output_type": "stream",
     "text": [
      "Dense representation of bag_of_words:\n",
      "[[0 0 0 ... 0 0 0]\n",
      " [0 0 0 ... 0 0 0]\n",
      " [0 0 0 ... 0 0 0]\n",
      " ...\n",
      " [0 0 0 ... 0 0 0]\n",
      " [0 0 0 ... 0 0 0]\n",
      " [0 0 0 ... 0 0 0]]\n"
     ]
    }
   ],
   "source": [
    "print(\"Dense representation of bag_of_words:\\n{}\".format(\n",
    "    bag_of_words.toarray()))"
   ]
  },
  {
   "cell_type": "code",
   "execution_count": 99,
   "id": "0ea38319",
   "metadata": {},
   "outputs": [],
   "source": [
    "# load_files returns a bunch, containing training texts and training labels\n",
    "text_train, y_train = working_df.text, working_df.label"
   ]
  },
  {
   "cell_type": "code",
   "execution_count": 100,
   "id": "fdabaf3b",
   "metadata": {},
   "outputs": [
    {
     "name": "stdout",
     "output_type": "stream",
     "text": [
      "X_train:\n",
      "<1281x77320 sparse matrix of type '<class 'numpy.int64'>'\n",
      "\twith 668319 stored elements in Compressed Sparse Row format>\n"
     ]
    }
   ],
   "source": [
    "vect = CountVectorizer().fit(text_train)\n",
    "X_train = vect.transform(text_train)\n",
    "print(\"X_train:\\n{}\".format(repr(X_train)))"
   ]
  },
  {
   "cell_type": "code",
   "execution_count": 101,
   "id": "5378bb47",
   "metadata": {},
   "outputs": [
    {
     "name": "stdout",
     "output_type": "stream",
     "text": [
      "Number of features: 77320\n",
      "First 20 features:\n",
      "['00', '000', '0000', '000000', '00000000', '00000000000', '0000001', '0001', '0001891', '0002thinker', '000kg', '001', '007', '008', '00am', '00h', '00l', '00pm', '01', '010422']\n",
      "Features 20010 to 20030:\n",
      "['elle님은', 'ellie', 'ellieeeee', 'elliets', 'ellin', 'elliot', 'elliots', 'elliott', 'ello', 'ellos', 'elly', 'ellínikon', 'elm', 'elma', 'elmax', 'elmegy', 'elmo', 'elms', 'elo', 'elodie']\n",
      "Every 2000th feature:\n",
      "['00', 'abck', 'ambassador', 'augmenter', 'benicio', 'brighten', 'chali', 'confectionary', 'darned', 'dissapointing', 'elkövetkezendő', 'fakkkkkkk', 'front', 'golfer', 'harkens', 'hospitak', 'ink', 'jodel', 'kiri', 'lezzgoooooooo', 'maii', 'mianiversariodetwitter', 'myeong', 'nomination', 'oublié', 'petnames', 'prob', 'rectangles', 'rumahku', 'seriosuly', 'slipped', 'step', 'tally', 'tobacco', 'unconditional', 'wacha', 'wracking', 'älylliset', '덤벼_내_카드는_원어스']\n"
     ]
    },
    {
     "name": "stderr",
     "output_type": "stream",
     "text": [
      "/home/johnc/anaconda3/lib/python3.9/site-packages/sklearn/utils/deprecation.py:87: FutureWarning: Function get_feature_names is deprecated; get_feature_names is deprecated in 1.0 and will be removed in 1.2. Please use get_feature_names_out instead.\n",
      "  warnings.warn(msg, category=FutureWarning)\n"
     ]
    }
   ],
   "source": [
    "feature_names = vect.get_feature_names()\n",
    "print(\"Number of features: {}\".format(len(feature_names)))\n",
    "print(\"First 20 features:\\n{}\".format(feature_names[:20]))\n",
    "print(\"Features 20010 to 20030:\\n{}\".format(feature_names[20010:20030]))\n",
    "print(\"Every 2000th feature:\\n{}\".format(feature_names[::2000]))"
   ]
  },
  {
   "cell_type": "code",
   "execution_count": 102,
   "id": "726feda4",
   "metadata": {},
   "outputs": [
    {
     "name": "stderr",
     "output_type": "stream",
     "text": [
      "/home/johnc/anaconda3/lib/python3.9/site-packages/sklearn/linear_model/_logistic.py:814: ConvergenceWarning: lbfgs failed to converge (status=1):\n",
      "STOP: TOTAL NO. of ITERATIONS REACHED LIMIT.\n",
      "\n",
      "Increase the number of iterations (max_iter) or scale the data as shown in:\n",
      "    https://scikit-learn.org/stable/modules/preprocessing.html\n",
      "Please also refer to the documentation for alternative solver options:\n",
      "    https://scikit-learn.org/stable/modules/linear_model.html#logistic-regression\n",
      "  n_iter_i = _check_optimize_result(\n"
     ]
    },
    {
     "name": "stdout",
     "output_type": "stream",
     "text": [
      "Mean cross-validation accuracy: 0.11\n"
     ]
    },
    {
     "name": "stderr",
     "output_type": "stream",
     "text": [
      "/home/johnc/anaconda3/lib/python3.9/site-packages/sklearn/linear_model/_logistic.py:814: ConvergenceWarning: lbfgs failed to converge (status=1):\n",
      "STOP: TOTAL NO. of ITERATIONS REACHED LIMIT.\n",
      "\n",
      "Increase the number of iterations (max_iter) or scale the data as shown in:\n",
      "    https://scikit-learn.org/stable/modules/preprocessing.html\n",
      "Please also refer to the documentation for alternative solver options:\n",
      "    https://scikit-learn.org/stable/modules/linear_model.html#logistic-regression\n",
      "  n_iter_i = _check_optimize_result(\n"
     ]
    }
   ],
   "source": [
    "import numpy as np\n",
    "from sklearn.model_selection import cross_val_score\n",
    "from sklearn.linear_model import LogisticRegression\n",
    "scores = cross_val_score(LogisticRegression(), X_train, y_train, cv=2)\n",
    "print(\"Mean cross-validation accuracy: {:.2f}\".format(np.mean(scores)))"
   ]
  },
  {
   "cell_type": "code",
   "execution_count": null,
   "id": "5e1151a6",
   "metadata": {},
   "outputs": [],
   "source": []
  }
 ],
 "metadata": {
  "kernelspec": {
   "display_name": "Python 3 (ipykernel)",
   "language": "python",
   "name": "python3"
  },
  "language_info": {
   "codemirror_mode": {
    "name": "ipython",
    "version": 3
   },
   "file_extension": ".py",
   "mimetype": "text/x-python",
   "name": "python",
   "nbconvert_exporter": "python",
   "pygments_lexer": "ipython3",
   "version": "3.9.13"
  }
 },
 "nbformat": 4,
 "nbformat_minor": 5
}
