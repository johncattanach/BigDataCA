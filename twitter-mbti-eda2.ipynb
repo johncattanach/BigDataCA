{
 "cells": [
  {
   "cell_type": "markdown",
   "id": "2d1307c6",
   "metadata": {},
   "source": [
    "from https://www.kaggle.com/datasets/mazlumi/mbti-personality-type-twitter-dataset/code"
   ]
  },
  {
   "cell_type": "markdown",
   "id": "fc901e02",
   "metadata": {},
   "source": [
    "## Part 1\n",
    "Just set a baseline, we fit a model to our data.\n",
    "But using standard local files"
   ]
  },
  {
   "cell_type": "code",
   "execution_count": 117,
   "id": "719a6937",
   "metadata": {},
   "outputs": [],
   "source": [
    "import warnings\n",
    "warnings.filterwarnings('ignore')\n",
    "import pandas as pd"
   ]
  },
  {
   "cell_type": "code",
   "execution_count": 34,
   "id": "e2ef0354",
   "metadata": {},
   "outputs": [
    {
     "data": {
      "text/html": [
       "<div>\n",
       "<style scoped>\n",
       "    .dataframe tbody tr th:only-of-type {\n",
       "        vertical-align: middle;\n",
       "    }\n",
       "\n",
       "    .dataframe tbody tr th {\n",
       "        vertical-align: top;\n",
       "    }\n",
       "\n",
       "    .dataframe thead th {\n",
       "        text-align: right;\n",
       "    }\n",
       "</style>\n",
       "<table border=\"1\" class=\"dataframe\">\n",
       "  <thead>\n",
       "    <tr style=\"text-align: right;\">\n",
       "      <th></th>\n",
       "      <th>Unnamed: 0</th>\n",
       "      <th>text</th>\n",
       "      <th>label</th>\n",
       "    </tr>\n",
       "  </thead>\n",
       "  <tbody>\n",
       "    <tr>\n",
       "      <th>0</th>\n",
       "      <td>0</td>\n",
       "      <td>@Pericles216 @HierBeforeTheAC @Sachinettiyil T...</td>\n",
       "      <td>intj</td>\n",
       "    </tr>\n",
       "    <tr>\n",
       "      <th>1</th>\n",
       "      <td>1</td>\n",
       "      <td>@Hispanthicckk Being you makes you look cute||...</td>\n",
       "      <td>intj</td>\n",
       "    </tr>\n",
       "    <tr>\n",
       "      <th>2</th>\n",
       "      <td>2</td>\n",
       "      <td>@Alshymi Les balles sont réelles et sont tirée...</td>\n",
       "      <td>intj</td>\n",
       "    </tr>\n",
       "    <tr>\n",
       "      <th>3</th>\n",
       "      <td>3</td>\n",
       "      <td>I'm like entp but idiotic|||Hey boy, do you wa...</td>\n",
       "      <td>intj</td>\n",
       "    </tr>\n",
       "    <tr>\n",
       "      <th>4</th>\n",
       "      <td>4</td>\n",
       "      <td>@kaeshurr1 Give it to @ZargarShanif ... He has...</td>\n",
       "      <td>intj</td>\n",
       "    </tr>\n",
       "  </tbody>\n",
       "</table>\n",
       "</div>"
      ],
      "text/plain": [
       "   Unnamed: 0                                               text label\n",
       "0           0  @Pericles216 @HierBeforeTheAC @Sachinettiyil T...  intj\n",
       "1           1  @Hispanthicckk Being you makes you look cute||...  intj\n",
       "2           2  @Alshymi Les balles sont réelles et sont tirée...  intj\n",
       "3           3  I'm like entp but idiotic|||Hey boy, do you wa...  intj\n",
       "4           4  @kaeshurr1 Give it to @ZargarShanif ... He has...  intj"
      ]
     },
     "execution_count": 34,
     "metadata": {},
     "output_type": "execute_result"
    }
   ],
   "source": [
    "df=pd.read_csv('twitter_MBTI.csv')\n",
    "df.head()"
   ]
  },
  {
   "cell_type": "code",
   "execution_count": 136,
   "id": "99f09193",
   "metadata": {},
   "outputs": [
    {
     "name": "stdout",
     "output_type": "stream",
     "text": [
      "(7811, 3)\n"
     ]
    },
    {
     "data": {
      "image/png": "[encoded data removed]",
      "text/plain": [
       "<Figure size 640x480 with 1 Axes>"
      ]
     },
     "metadata": {},
     "output_type": "display_data"
    }
   ],
   "source": [
    "print(df.shape)\n",
    "df.label.hist(bins=30);\n",
    "plt.title('Counts of tweet sets by MBTI label');"
   ]
  },
  {
   "cell_type": "markdown",
   "id": "66e88f86",
   "metadata": {},
   "source": [
    "Develop the text sanitisation.\n",
    "NB this will be reused in the hadoop mapper"
   ]
  },
  {
   "cell_type": "code",
   "execution_count": 37,
   "id": "67c7cbc4",
   "metadata": {},
   "outputs": [
    {
     "name": "stdout",
     "output_type": "stream",
     "text": [
      "okay => okay\n",
      "corpora => corpus\n",
      "xxx @yz zzz => \n",
      "start https://spug end || more => \n",
      "dokey => dokey\n"
     ]
    }
   ],
   "source": [
    "import re\n",
    "from nltk.stem import WordNetLemmatizer\n",
    "# do these one time\n",
    "#import nltk\n",
    "#nltk.download('wordnet')\n",
    "#nltk.download('omw-1.4')\n",
    "\n",
    "lemmatizer = WordNetLemmatizer()\n",
    "\n",
    "def validword(s):    \n",
    "    if s.isascii():  # ignore emtocicon and non-english text\n",
    "        # ignore url/handle/3 or more key mashing\n",
    "        if re.match(r'^http|^@|(.)\\1{2,}',s):\n",
    "            return ''\n",
    "        # only allow letters\n",
    "        elif re.match(r'^[a-zA-Z]*$',s):\n",
    "            return lemmatizer.lemmatize(s.lower())\n",
    "        else:\n",
    "            return ''\n",
    "    else:\n",
    "        return ''\n",
    "test=pd.Series(['okay','corpora','xxx @yz zzz','start https://spug end ||| more','dokey'])\n",
    "for w in test:\n",
    "    print(w,'=>',validword(w))"
   ]
  },
  {
   "cell_type": "code",
   "execution_count": 40,
   "id": "019016a2",
   "metadata": {},
   "outputs": [],
   "source": [
    "def parsetweets(s):\n",
    "    rv=''\n",
    "    for tweet in s.split('|||'):\n",
    "        for word in tweet.split():\n",
    "            rv=rv+' '+validword(word)\n",
    "    return rv\n",
    "def clean_tweets(s):\n",
    "    return s.apply(parsetweets)\n",
    "\n",
    "clean_tweets(test)\n",
    "df.text=clean_tweets(df.text)\n",
    "# delete any rows where nothing left of tweet\n",
    "df=df[df.text != '']"
   ]
  },
  {
   "cell_type": "code",
   "execution_count": 148,
   "id": "be6198dd",
   "metadata": {},
   "outputs": [
    {
     "name": "stdout",
     "output_type": "stream",
     "text": [
      "['intj' 'intp' 'entj' 'entp' 'infj' 'infp' 'enfj' 'enfp' 'istj' 'isfj'\n",
      " 'estj' 'esfj' 'istp' 'isfp' 'estp' 'esfp']\n",
      "Downsampled to 81 for all classes\n"
     ]
    }
   ],
   "source": [
    "# get fully balanced sample\n",
    "#( manually downsampling for simplicity)\n",
    "# firstly get labels\n",
    "types=df.label.unique()\n",
    "print(types)\n",
    "# downsample to smallest class\n",
    "nsamp=int(df.groupby([\"label\"]).count().min()[0])\n",
    "working_df=df.head(1)\n",
    "for t in types:    \n",
    "    working_df=pd.concat([working_df,df.query('label==\"'+t+'\"').sample(nsamp)])\n",
    "    #print(t,working_df.shape)\n",
    "# clean it\n",
    "working_df.text=clean_tweets(working_df.text)\n",
    "print(f'Downsampled to {nsamp} for all classes')\n"
   ]
  },
  {
   "cell_type": "code",
   "execution_count": 149,
   "id": "14a9e7ab",
   "metadata": {},
   "outputs": [
    {
     "data": {
      "text/html": [
       "<div>\n",
       "<style scoped>\n",
       "    .dataframe tbody tr th:only-of-type {\n",
       "        vertical-align: middle;\n",
       "    }\n",
       "\n",
       "    .dataframe tbody tr th {\n",
       "        vertical-align: top;\n",
       "    }\n",
       "\n",
       "    .dataframe thead th {\n",
       "        text-align: right;\n",
       "    }\n",
       "</style>\n",
       "<table border=\"1\" class=\"dataframe\">\n",
       "  <thead>\n",
       "    <tr style=\"text-align: right;\">\n",
       "      <th></th>\n",
       "      <th>Unnamed: 0</th>\n",
       "      <th>text</th>\n",
       "      <th>label</th>\n",
       "    </tr>\n",
       "  </thead>\n",
       "  <tbody>\n",
       "    <tr>\n",
       "      <th>0</th>\n",
       "      <td>0</td>\n",
       "      <td>the pope is this is a catholic dogma it mean ...</td>\n",
       "      <td>intj</td>\n",
       "    </tr>\n",
       "    <tr>\n",
       "      <th>386</th>\n",
       "      <td>386</td>\n",
       "      <td>nothing on main headline but i saw this what ...</td>\n",
       "      <td>intj</td>\n",
       "    </tr>\n",
       "    <tr>\n",
       "      <th>609</th>\n",
       "      <td>609</td>\n",
       "      <td>terrible how people can dangerously over anal...</td>\n",
       "      <td>intj</td>\n",
       "    </tr>\n",
       "    <tr>\n",
       "      <th>5881</th>\n",
       "      <td>5881</td>\n",
       "      <td>marked a and and tomorrow by gabrielle zevin ...</td>\n",
       "      <td>intj</td>\n",
       "    </tr>\n",
       "    <tr>\n",
       "      <th>7350</th>\n",
       "      <td>7350</td>\n",
       "      <td>like year ago but ohmygod le w h a t mashiro ...</td>\n",
       "      <td>intj</td>\n",
       "    </tr>\n",
       "    <tr>\n",
       "      <th>...</th>\n",
       "      <td>...</td>\n",
       "      <td>...</td>\n",
       "      <td>...</td>\n",
       "    </tr>\n",
       "    <tr>\n",
       "      <th>1913</th>\n",
       "      <td>1913</td>\n",
       "      <td>taurus thank ty thank thank thank you thank u...</td>\n",
       "      <td>esfp</td>\n",
       "    </tr>\n",
       "    <tr>\n",
       "      <th>598</th>\n",
       "      <td>598</td>\n",
       "      <td>so sad my bts no pls im so sad imgojng myself...</td>\n",
       "      <td>esfp</td>\n",
       "    </tr>\n",
       "    <tr>\n",
       "      <th>3532</th>\n",
       "      <td>3532</td>\n",
       "      <td>i found the tweet prediction im so happy ran ...</td>\n",
       "      <td>esfp</td>\n",
       "    </tr>\n",
       "    <tr>\n",
       "      <th>1907</th>\n",
       "      <td>1907</td>\n",
       "      <td>cringe is not real it is just a social medium...</td>\n",
       "      <td>esfp</td>\n",
       "    </tr>\n",
       "    <tr>\n",
       "      <th>1905</th>\n",
       "      <td>1905</td>\n",
       "      <td>btw i have my mask on but i take off for pic ...</td>\n",
       "      <td>esfp</td>\n",
       "    </tr>\n",
       "  </tbody>\n",
       "</table>\n",
       "<p>1297 rows × 3 columns</p>\n",
       "</div>"
      ],
      "text/plain": [
       "      Unnamed: 0                                               text label\n",
       "0              0   the pope is this is a catholic dogma it mean ...  intj\n",
       "386          386   nothing on main headline but i saw this what ...  intj\n",
       "609          609   terrible how people can dangerously over anal...  intj\n",
       "5881        5881   marked a and and tomorrow by gabrielle zevin ...  intj\n",
       "7350        7350   like year ago but ohmygod le w h a t mashiro ...  intj\n",
       "...          ...                                                ...   ...\n",
       "1913        1913   taurus thank ty thank thank thank you thank u...  esfp\n",
       "598          598   so sad my bts no pls im so sad imgojng myself...  esfp\n",
       "3532        3532   i found the tweet prediction im so happy ran ...  esfp\n",
       "1907        1907   cringe is not real it is just a social medium...  esfp\n",
       "1905        1905   btw i have my mask on but i take off for pic ...  esfp\n",
       "\n",
       "[1297 rows x 3 columns]"
      ]
     },
     "execution_count": 149,
     "metadata": {},
     "output_type": "execute_result"
    }
   ],
   "source": [
    "working_df"
   ]
  },
  {
   "cell_type": "code",
   "execution_count": 43,
   "id": "fdb29432",
   "metadata": {},
   "outputs": [
    {
     "name": "stdout",
     "output_type": "stream",
     "text": [
      "10149 features\n",
      "Features with lowest tfidf:\n",
      "['opened' 'including' 'hanging' 'birth' 'information' 'effect' 'core'\n",
      " 'confirmed' 'passing' 'caption' 'constant' 'opposite' 'stealing'\n",
      " 'illness' 'ground' 'closest' 'habit' 'zone' 'anger' 'forgetting']\n",
      "Features with highest tfidf: \n",
      "['help' 'medley' 'terrorist' 'saudi' 'eth' 'safe' 'marketing' 'capable'\n",
      " 'enhypen' 'track' 'hi' 'ka' 'lee' 'sunoo' 'jackson' 'followed'\n",
      " 'unfollowed' 'selling' 'update' 'flight' 'vote' 'shopee' 'florida' 'moot'\n",
      " 'follow' 'sector' 'checked' 'ty' 'automatically' 'rt' 'mint' 'aries'\n",
      " 'pinned' 'bbl' 'retweet' 'cr' 'wordle' 'participate' 'aye' 'kst']\n"
     ]
    }
   ],
   "source": [
    "# rescale with tf-idf\n",
    "import numpy as np\n",
    "from sklearn.feature_extraction.text import TfidfVectorizer\n",
    "vectorizer=TfidfVectorizer(min_df=5, stop_words='english',ngram_range=(1,1),norm=None).fit(working_df.text)\n",
    "X = vectorizer.transform(working_df.text)\n",
    "y=working_df.label\n",
    "# find maximum value for each of the features over dataset:\n",
    "max_value = X.max(axis=0).toarray().ravel()\n",
    "sorted_by_tfidf = max_value.argsort()\n",
    "# get feature names\n",
    "feature_names = np.array(vectorizer.get_feature_names_out())\n",
    "print(f'{len(feature_names)} features')\n",
    "print(\"Features with lowest tfidf:\\n{}\".format(\n",
    "      feature_names[sorted_by_tfidf[:20]]))\n",
    "\n",
    "print(\"Features with highest tfidf: \\n{}\".format(\n",
    "      feature_names[sorted_by_tfidf[-40:]]))"
   ]
  },
  {
   "cell_type": "code",
   "execution_count": 44,
   "id": "0ea38319",
   "metadata": {},
   "outputs": [],
   "source": [
    "from sklearn.model_selection import train_test_split\n",
    "# setup for fitting\n",
    "X_train, X_test, y_train, y_test = train_test_split(X, y, test_size=0.33, random_state=42)"
   ]
  },
  {
   "cell_type": "code",
   "execution_count": 46,
   "id": "5378bb47",
   "metadata": {},
   "outputs": [],
   "source": [
    "# feature_names = vect.get_feature_names()\n",
    "# print(\"Number of features: {}\".format(len(feature_names)))\n",
    "# print(\"First 20 features:\\n{}\".format(feature_names[:20]))\n",
    "# print(\"Features 20010 to 20030:\\n{}\".format(feature_names[20010:20030]))\n",
    "# print(\"Every 2000th feature:\\n{}\".format(feature_names[::2000]))"
   ]
  },
  {
   "cell_type": "code",
   "execution_count": 47,
   "id": "726feda4",
   "metadata": {},
   "outputs": [
    {
     "name": "stdout",
     "output_type": "stream",
     "text": [
      "              precision    recall  f1-score   support\n",
      "\n",
      "        intj       0.18      0.26      0.21        19\n",
      "        intp       0.30      0.48      0.37        21\n",
      "        entj       0.35      0.23      0.28        35\n",
      "        entp       0.31      0.45      0.37        22\n",
      "        infj       0.45      0.20      0.27        51\n",
      "        infp       0.32      0.26      0.29        27\n",
      "        enfj       0.22      0.18      0.20        28\n",
      "        enfp       0.25      0.43      0.32        14\n",
      "        istj       0.37      0.48      0.42        23\n",
      "        isfj       0.29      0.18      0.22        44\n",
      "        estj       0.26      0.35      0.30        17\n",
      "        esfj       0.25      0.27      0.26        22\n",
      "        istp       0.50      0.34      0.41        35\n",
      "        isfp       0.33      0.33      0.33        27\n",
      "        estp       0.31      0.50      0.38        18\n",
      "        esfp       0.29      0.45      0.35        20\n",
      "\n",
      "    accuracy                           0.31       423\n",
      "   macro avg       0.31      0.34      0.31       423\n",
      "weighted avg       0.33      0.31      0.30       423\n",
      "\n"
     ]
    }
   ],
   "source": [
    "import numpy as np\n",
    "from sklearn.model_selection import cross_val_score\n",
    "from sklearn.linear_model import LogisticRegression\n",
    "from sklearn.linear_model import SGDClassifier\n",
    "from sklearn.linear_model import RidgeClassifier\n",
    "from sklearn.naive_bayes import CategoricalNB\n",
    "from sklearn.tree import DecisionTreeClassifier # 0.38\n",
    "from sklearn.neighbors import KNeighborsClassifier # brutal\n",
    "from sklearn.neural_network import MLPClassifier # poor 0.12\n",
    "from sklearn.ensemble import RandomForestClassifier # 0.4\n",
    "from sklearn.metrics import classification_report\n",
    "#scores = cross_val_score(LogisticRegression(max_iter=500), X_train, y_train, cv=2)\n",
    "#print(\"Mean cross-validation accuracy: {:.2f}\".format(np.mean(scores)))\n",
    "reg=RandomForestClassifier().fit(X_train, y_train)\n",
    "y_pred=reg.predict(X_test)\n",
    "print(classification_report(y_pred,y_test,target_names=types))"
   ]
  },
  {
   "cell_type": "code",
   "execution_count": 48,
   "id": "5e1151a6",
   "metadata": {},
   "outputs": [
    {
     "data": {
      "image/png": "[encoded data removed]",
      "text/plain": [
       "<Figure size 800x600 with 2 Axes>"
      ]
     },
     "metadata": {},
     "output_type": "display_data"
    }
   ],
   "source": [
    "from sklearn.metrics import confusion_matrix\n",
    "\n",
    "# Order of the input parameters is important: \n",
    "# first param is the actual output values\n",
    "# second param is what our model predicted\n",
    "conf_matrix = confusion_matrix(y_test, y_pred)\n",
    "\n",
    "import matplotlib.pyplot as plt\n",
    "from sklearn.metrics import ConfusionMatrixDisplay\n",
    "\n",
    "# Change figure size and increase dpi for better resolution\n",
    "# and get reference to axes object\n",
    "fig, ax = plt.subplots(figsize=(8,6), dpi=100)\n",
    "\n",
    "# initialize using the raw 2D confusion matrix \n",
    "# and output labels (in our case, it's 0 and 1)\n",
    "display = ConfusionMatrixDisplay(conf_matrix, display_labels=reg.classes_)\n",
    "\n",
    "# set the plot title using the axes object\n",
    "ax.set(title='Confusion Matrix for MBTI prediction')\n",
    "\n",
    "# show the plot. \n",
    "# Pass the parameter ax to show customizations (ex. title) \n",
    "display.plot(ax=ax);"
   ]
  },
  {
   "cell_type": "markdown",
   "id": "18a5908c",
   "metadata": {},
   "source": [
    "It's not great, but shows there is a model to be discovered"
   ]
  },
  {
   "cell_type": "markdown",
   "id": "304f10f3",
   "metadata": {},
   "source": [
    "## Part Two  , the actual object of the exercise\n",
    "Now do likewise, with same data.  \n",
    "Except the data has been map reduced into hbase (see document)"
   ]
  },
  {
   "cell_type": "code",
   "execution_count": 49,
   "id": "6df5ea64",
   "metadata": {},
   "outputs": [],
   "source": [
    "#!pip install happybase"
   ]
  },
  {
   "cell_type": "code",
   "execution_count": 127,
   "id": "b23cc36a",
   "metadata": {},
   "outputs": [],
   "source": [
    "import happybase\n",
    "\n",
    "connection = happybase.Connection('localhost')\n",
    "table = connection.table('wordcount')"
   ]
  },
  {
   "cell_type": "code",
   "execution_count": 110,
   "id": "acd2e349",
   "metadata": {},
   "outputs": [
    {
     "data": {
      "text/plain": [
       "{b'cf:count': b'51',\n",
       " b'cf:doc_id': b'000000000',\n",
       " b'cf:label': b'intj',\n",
       " b'cf:word': b'a'}"
      ]
     },
     "execution_count": 110,
     "metadata": {},
     "output_type": "execute_result"
    }
   ],
   "source": [
    "table.row(b'1')"
   ]
  },
  {
   "cell_type": "markdown",
   "id": "10c7c046",
   "metadata": {},
   "source": [
    "We can look at distribution of data using happybase.  \n",
    "Note this is alternate to sql group by.  \n",
    "It's not terribly efficient - we're doing all the processing client side"
   ]
  },
  {
   "cell_type": "code",
   "execution_count": 128,
   "id": "87e8d47c",
   "metadata": {},
   "outputs": [],
   "source": [
    "groupby = b'cf:label'\n",
    "counts = {}\n",
    "# Scan the table and group the data by the specified column\n",
    "for _, data in table.scan(columns=[groupby]):\n",
    "    label = data[groupby]\n",
    "    if label not in counts:\n",
    "        counts[label] =0\n",
    "    counts[label]=counts[label]+1"
   ]
  },
  {
   "cell_type": "code",
   "execution_count": 129,
   "id": "98edaf3d",
   "metadata": {},
   "outputs": [
    {
     "data": {
      "image/png": "[encoded data removed]",
      "text/plain": [
       "<Figure size 640x480 with 1 Axes>"
      ]
     },
     "metadata": {},
     "output_type": "display_data"
    }
   ],
   "source": [
    "# do a simple plot to display our aggregated totals\n",
    "fig,ax=plt.subplots()\n",
    "ax.bar(range(len(counts)), list(counts.values()),tick_label=list(counts.keys()));\n",
    "ax.set_xticklabels(labels=list(counts.keys()) ,rotation=90);\n",
    "ax.set_title('Counts of tweets by MBTI, from HBase,  after map reduction');"
   ]
  },
  {
   "cell_type": "markdown",
   "id": "d933bfbb",
   "metadata": {},
   "source": [
    "That was all well and good, but it would be preferrable to manipulate the data using Pandas native DataFrames.   \n",
    "Accordingly we use Happybase to convert"
   ]
  },
  {
   "cell_type": "code",
   "execution_count": 56,
   "id": "6bee776e",
   "metadata": {},
   "outputs": [],
   "source": [
    "rows = table.scan()"
   ]
  },
  {
   "cell_type": "code",
   "execution_count": 57,
   "id": "6ac4e589",
   "metadata": {},
   "outputs": [],
   "source": [
    "# furthermore\n",
    "data = [row[1] for row in rows]     "
   ]
  },
  {
   "cell_type": "code",
   "execution_count": 58,
   "id": "b85db582",
   "metadata": {},
   "outputs": [],
   "source": [
    "hdf = pd.DataFrame(data)"
   ]
  },
  {
   "cell_type": "code",
   "execution_count": 59,
   "id": "a554e496",
   "metadata": {},
   "outputs": [
    {
     "data": {
      "text/plain": [
       "(3470604, 4)"
      ]
     },
     "execution_count": 59,
     "metadata": {},
     "output_type": "execute_result"
    }
   ],
   "source": [
    "hdf.shape"
   ]
  },
  {
   "cell_type": "code",
   "execution_count": 60,
   "id": "55bb3760",
   "metadata": {},
   "outputs": [
    {
     "data": {
      "text/html": [
       "<div>\n",
       "<style scoped>\n",
       "    .dataframe tbody tr th:only-of-type {\n",
       "        vertical-align: middle;\n",
       "    }\n",
       "\n",
       "    .dataframe tbody tr th {\n",
       "        vertical-align: top;\n",
       "    }\n",
       "\n",
       "    .dataframe thead th {\n",
       "        text-align: right;\n",
       "    }\n",
       "</style>\n",
       "<table border=\"1\" class=\"dataframe\">\n",
       "  <thead>\n",
       "    <tr style=\"text-align: right;\">\n",
       "      <th></th>\n",
       "      <th>b'cf:count'</th>\n",
       "      <th>b'cf:doc_id'</th>\n",
       "      <th>b'cf:label'</th>\n",
       "      <th>b'cf:word'</th>\n",
       "    </tr>\n",
       "  </thead>\n",
       "  <tbody>\n",
       "    <tr>\n",
       "      <th>0</th>\n",
       "      <td>b'51'</td>\n",
       "      <td>b'000000000'</td>\n",
       "      <td>b'intj'</td>\n",
       "      <td>b'a'</td>\n",
       "    </tr>\n",
       "    <tr>\n",
       "      <th>1</th>\n",
       "      <td>b'1'</td>\n",
       "      <td>b'000000000'</td>\n",
       "      <td>b'intj'</td>\n",
       "      <td>b'adoration'</td>\n",
       "    </tr>\n",
       "    <tr>\n",
       "      <th>2</th>\n",
       "      <td>b'8'</td>\n",
       "      <td>b'000000000'</td>\n",
       "      <td>b'intj'</td>\n",
       "      <td>b'church'</td>\n",
       "    </tr>\n",
       "    <tr>\n",
       "      <th>3</th>\n",
       "      <td>b'1'</td>\n",
       "      <td>b'000000000'</td>\n",
       "      <td>b'intj'</td>\n",
       "      <td>b'bien'</td>\n",
       "    </tr>\n",
       "    <tr>\n",
       "      <th>4</th>\n",
       "      <td>b'1'</td>\n",
       "      <td>b'000000002'</td>\n",
       "      <td>b'intj'</td>\n",
       "      <td>b'awful'</td>\n",
       "    </tr>\n",
       "  </tbody>\n",
       "</table>\n",
       "</div>"
      ],
      "text/plain": [
       "  b'cf:count'  b'cf:doc_id' b'cf:label'    b'cf:word'\n",
       "0       b'51'  b'000000000'     b'intj'          b'a'\n",
       "1        b'1'  b'000000000'     b'intj'  b'adoration'\n",
       "2        b'8'  b'000000000'     b'intj'     b'church'\n",
       "3        b'1'  b'000000000'     b'intj'       b'bien'\n",
       "4        b'1'  b'000000002'     b'intj'      b'awful'"
      ]
     },
     "execution_count": 60,
     "metadata": {},
     "output_type": "execute_result"
    }
   ],
   "source": [
    "hdf.head()"
   ]
  },
  {
   "cell_type": "markdown",
   "id": "f82f440b",
   "metadata": {},
   "source": [
    "type and rename to more user-friendly format"
   ]
  },
  {
   "cell_type": "code",
   "execution_count": 63,
   "id": "7d861811",
   "metadata": {},
   "outputs": [],
   "source": [
    "# rename columns and reassign data from binary \n",
    "hdf.rename(columns={b'cf:doc_id':'doc_id',b'cf:count':'ccount',b'cf:label':'label',b'cf:word':'word'},inplace=True)\n",
    "hdf.ccount=hdf.ccount.astype(int)\n",
    "hdf.label=hdf.label.astype(str)\n",
    "hdf.word=hdf.word.astype(str)\n",
    "hdf.doc_id=hdf.doc_id.astype(str)"
   ]
  },
  {
   "cell_type": "code",
   "execution_count": 65,
   "id": "758434ec",
   "metadata": {},
   "outputs": [
    {
     "data": {
      "text/html": [
       "<div>\n",
       "<style scoped>\n",
       "    .dataframe tbody tr th:only-of-type {\n",
       "        vertical-align: middle;\n",
       "    }\n",
       "\n",
       "    .dataframe tbody tr th {\n",
       "        vertical-align: top;\n",
       "    }\n",
       "\n",
       "    .dataframe thead th {\n",
       "        text-align: right;\n",
       "    }\n",
       "</style>\n",
       "<table border=\"1\" class=\"dataframe\">\n",
       "  <thead>\n",
       "    <tr style=\"text-align: right;\">\n",
       "      <th></th>\n",
       "      <th>ccount</th>\n",
       "      <th>doc_id</th>\n",
       "      <th>label</th>\n",
       "      <th>word</th>\n",
       "    </tr>\n",
       "  </thead>\n",
       "  <tbody>\n",
       "    <tr>\n",
       "      <th>0</th>\n",
       "      <td>51</td>\n",
       "      <td>000000000</td>\n",
       "      <td>intj</td>\n",
       "      <td>a</td>\n",
       "    </tr>\n",
       "    <tr>\n",
       "      <th>1</th>\n",
       "      <td>1</td>\n",
       "      <td>000000000</td>\n",
       "      <td>intj</td>\n",
       "      <td>adoration</td>\n",
       "    </tr>\n",
       "    <tr>\n",
       "      <th>2</th>\n",
       "      <td>8</td>\n",
       "      <td>000000000</td>\n",
       "      <td>intj</td>\n",
       "      <td>church</td>\n",
       "    </tr>\n",
       "    <tr>\n",
       "      <th>3</th>\n",
       "      <td>1</td>\n",
       "      <td>000000000</td>\n",
       "      <td>intj</td>\n",
       "      <td>bien</td>\n",
       "    </tr>\n",
       "    <tr>\n",
       "      <th>4</th>\n",
       "      <td>1</td>\n",
       "      <td>000000002</td>\n",
       "      <td>intj</td>\n",
       "      <td>awful</td>\n",
       "    </tr>\n",
       "    <tr>\n",
       "      <th>...</th>\n",
       "      <td>...</td>\n",
       "      <td>...</td>\n",
       "      <td>...</td>\n",
       "      <td>...</td>\n",
       "    </tr>\n",
       "    <tr>\n",
       "      <th>3470599</th>\n",
       "      <td>1</td>\n",
       "      <td>000000221</td>\n",
       "      <td>intp</td>\n",
       "      <td>experiencing</td>\n",
       "    </tr>\n",
       "    <tr>\n",
       "      <th>3470600</th>\n",
       "      <td>2</td>\n",
       "      <td>000000221</td>\n",
       "      <td>intp</td>\n",
       "      <td>eye</td>\n",
       "    </tr>\n",
       "    <tr>\n",
       "      <th>3470601</th>\n",
       "      <td>1</td>\n",
       "      <td>000000221</td>\n",
       "      <td>intp</td>\n",
       "      <td>face</td>\n",
       "    </tr>\n",
       "    <tr>\n",
       "      <th>3470602</th>\n",
       "      <td>1</td>\n",
       "      <td>000000221</td>\n",
       "      <td>intp</td>\n",
       "      <td>false</td>\n",
       "    </tr>\n",
       "    <tr>\n",
       "      <th>3470603</th>\n",
       "      <td>1</td>\n",
       "      <td>000000221</td>\n",
       "      <td>intp</td>\n",
       "      <td>fan</td>\n",
       "    </tr>\n",
       "  </tbody>\n",
       "</table>\n",
       "<p>3470604 rows × 4 columns</p>\n",
       "</div>"
      ],
      "text/plain": [
       "         ccount     doc_id label          word\n",
       "0            51  000000000  intj             a\n",
       "1             1  000000000  intj     adoration\n",
       "2             8  000000000  intj        church\n",
       "3             1  000000000  intj          bien\n",
       "4             1  000000002  intj         awful\n",
       "...         ...        ...   ...           ...\n",
       "3470599       1  000000221  intp  experiencing\n",
       "3470600       2  000000221  intp           eye\n",
       "3470601       1  000000221  intp          face\n",
       "3470602       1  000000221  intp         false\n",
       "3470603       1  000000221  intp           fan\n",
       "\n",
       "[3470604 rows x 4 columns]"
      ]
     },
     "execution_count": 65,
     "metadata": {},
     "output_type": "execute_result"
    }
   ],
   "source": [
    "hdf"
   ]
  },
  {
   "cell_type": "markdown",
   "id": "2e3cdacb",
   "metadata": {},
   "source": [
    "## The following effort was ultimately unnsuccessful.   \n",
    "The reasons for this are explained in the document.    \n",
    "The following workings can be ignored, but are included to illustrate the problems of this approach"
   ]
  },
  {
   "cell_type": "code",
   "execution_count": 89,
   "id": "2dd0801a",
   "metadata": {},
   "outputs": [],
   "source": [
    "# make it tiny, to develop\n",
    "smallhdf=hdf[:50000]"
   ]
  },
  {
   "cell_type": "code",
   "execution_count": 90,
   "id": "a06562b9",
   "metadata": {},
   "outputs": [
    {
     "name": "stdout",
     "output_type": "stream",
     "text": [
      "15 docs, 12 classes\n"
     ]
    }
   ],
   "source": [
    "print(f'{len(smallhdf.doc_id.unique())} docs, {len(smallhdf.label.unique())} classes')"
   ]
  },
  {
   "cell_type": "code",
   "execution_count": 132,
   "id": "5858698a",
   "metadata": {},
   "outputs": [],
   "source": [
    "# we have individual document frequency, now generate total frequency\n",
    "words_df=pd.DataFrame(data=smallhdf.word.unique(),columns=['word'])\n",
    "word_dict=dict.fromkeys(smallhdf.word.unique(),0)\n",
    "for w in word_dict.keys():\n",
    "    #word_dict[w]=hdf.query('word==@w').ccount.sum()\n",
    "    # going to hope this is quicker\n",
    "    word_dict[w]=smallhdf[smallhdf.word==w].ccount.sum()"
   ]
  },
  {
   "cell_type": "code",
   "execution_count": 92,
   "id": "0c3fd9f8",
   "metadata": {},
   "outputs": [],
   "source": [
    "# save it (for when attempting to increase size)\n",
    "# import pickle\n",
    "# print(word_dict['the'])\n",
    "# with open('word_dict.pickle', 'wb') as f:\n",
    "#     pickle.dump(word_dict, f, protocol=pickle.HIGHEST_PROTOCOL)\n",
    "\n",
    "# with open('word_dict.pickle', 'rb') as f:\n",
    "#     w2 = pickle.load(f)\n",
    "# print(w2['the'])"
   ]
  },
  {
   "cell_type": "markdown",
   "id": "6b984cd5",
   "metadata": {},
   "source": [
    "from TfdIdVectorizer:    \n",
    "The formula that is used to compute the tf-idf for a term t of a document d in a document set is tf-idf(t, d) = tf(t, d) * idf(t), and the idf is computed as idf(t) = log [ n / df(t) ] + 1 (if smooth_idf=False), where n is the total number of documents in the document set and df(t) is the document frequency of t; the document frequency is the number of documents in the document set that contain the term t. The effect of adding “1” to the idf in the equation above is that terms with zero idf, i.e., terms that occur in all documents in a training set, will not be entirely ignored. (Note that the idf formula above differs from the standard textbook notation that defines the idf as idf(t) = log [ n / (df(t) + 1) ])."
   ]
  },
  {
   "cell_type": "code",
   "execution_count": 93,
   "id": "41c1b383",
   "metadata": {},
   "outputs": [],
   "source": [
    "# tf/idf from https://monkeylearn.com/blog/what-is-tf-idf\n",
    "import numpy as np\n",
    "from collections import OrderedDict\n",
    "import math\n",
    "od=OrderedDict(word_dict)\n",
    "from scipy.sparse import lil_matrix # lil_matrix recommended over csr_matrix\n",
    "x=len(smallhdf.doc_id.unique())\n",
    "y=len(od)\n",
    "HX = lil_matrix((x,y))\n",
    "Hy=[]\n",
    "# how many token instances in totallity? \n",
    "total_tokens=sum(od.values())\n",
    "i=0\n",
    "docs=smallhdf.groupby(['doc_id'])[['label','word','ccount']]\n",
    "for doc,frame in docs:\n",
    "    Hy+=[frame.iloc[0].label]\n",
    "    #print(f'|{frame.iloc[0].label}|')\n",
    "    doctot=frame.ccount.sum()  # shudder to think of inefficency of doing this\n",
    "    for index,row in frame.iterrows():\n",
    "        # destination in sparse\n",
    "        j=list(od.keys()).index(row.word)\n",
    "        # document frequency\n",
    "        tf=math.log(1+ od[row.word] / total_tokens)\n",
    "        idf=row.ccount\n",
    "        #print(f'[{i},{j}]')\n",
    "        HX[i,j]=tf*idf\n",
    "    i=i+1"
   ]
  },
  {
   "cell_type": "code",
   "execution_count": 94,
   "id": "54cb4af2",
   "metadata": {},
   "outputs": [
    {
     "data": {
      "text/plain": [
       "(<15x12790 sparse matrix of type '<class 'numpy.float64'>'\n",
       " \twith 28694 stored elements in List of Lists format>,\n",
       " ['intj',\n",
       "  'intj',\n",
       "  'isfj',\n",
       "  'isfj',\n",
       "  'isfj',\n",
       "  'intp',\n",
       "  'isfp',\n",
       "  'intj',\n",
       "  'infj',\n",
       "  'infp',\n",
       "  'isfj',\n",
       "  'infj',\n",
       "  'intj',\n",
       "  'intp',\n",
       "  'infp'])"
      ]
     },
     "execution_count": 94,
     "metadata": {},
     "output_type": "execute_result"
    }
   ],
   "source": [
    "HX,Hy"
   ]
  },
  {
   "cell_type": "code",
   "execution_count": 95,
   "id": "2dab34ff",
   "metadata": {},
   "outputs": [
    {
     "data": {
      "text/plain": [
       "(<1281x10149 sparse matrix of type '<class 'numpy.float64'>'\n",
       " \twith 363805 stored elements in Compressed Sparse Row format>,\n",
       " 12790)"
      ]
     },
     "execution_count": 95,
     "metadata": {},
     "output_type": "execute_result"
    }
   ],
   "source": [
    "X,y"
   ]
  },
  {
   "cell_type": "code",
   "execution_count": 133,
   "id": "cc7dca49",
   "metadata": {},
   "outputs": [
    {
     "name": "stdout",
     "output_type": "stream",
     "text": [
      "              precision    recall  f1-score   support\n",
      "\n",
      "        infj       0.00      0.00      0.00       0.0\n",
      "        infp       0.00      0.00      0.00       0.0\n",
      "        intj       0.00      0.00      0.00       2.0\n",
      "        intp       0.00      0.00      0.00       0.0\n",
      "        isfj       0.00      0.00      0.00       3.0\n",
      "\n",
      "    accuracy                           0.00       5.0\n",
      "   macro avg       0.00      0.00      0.00       5.0\n",
      "weighted avg       0.00      0.00      0.00       5.0\n",
      "\n"
     ]
    }
   ],
   "source": [
    "# fit something\n",
    "X_train, X_test, y_train, y_test = train_test_split(HX, Hy, test_size=0.33, random_state=42)\n",
    "reg=RandomForestClassifier().fit(X_train, y_train)\n",
    "y_pred=reg.predict(X_test)\n",
    "print(classification_report(y_pred,y_test))"
   ]
  },
  {
   "cell_type": "code",
   "execution_count": 134,
   "id": "41eb4dfc",
   "metadata": {},
   "outputs": [
    {
     "data": {
      "image/png": "[encoded data removed]",
      "text/plain": [
       "<Figure size 800x600 with 2 Axes>"
      ]
     },
     "metadata": {},
     "output_type": "display_data"
    }
   ],
   "source": [
    "# and dare we? see what it looks like for such a small set?\n",
    "conf_matrix = confusion_matrix(y_test, y_pred)\n",
    "fig, ax = plt.subplots(figsize=(8,6), dpi=100)\n",
    "display = ConfusionMatrixDisplay(conf_matrix, display_labels=reg.classes_)\n",
    "# set the plot title using the axes object\n",
    "ax.set(title='Confusion Matrix for MBTI prediction from tiny sample')\n",
    "# show the plot. \n",
    "# Pass the parameter ax to show customizations (ex. title) \n",
    "display.plot(ax=ax);"
   ]
  },
  {
   "cell_type": "code",
   "execution_count": null,
   "id": "868dc398",
   "metadata": {},
   "outputs": [],
   "source": []
  }
 ],
 "metadata": {
  "kernelspec": {
   "display_name": "Python 3 (ipykernel)",
   "language": "python",
   "name": "python3"
  },
  "language_info": {
   "codemirror_mode": {
    "name": "ipython",
    "version": 3
   },
   "file_extension": ".py",
   "mimetype": "text/x-python",
   "name": "python",
   "nbconvert_exporter": "python",
   "pygments_lexer": "ipython3",
   "version": "3.10.9"
  }
 },
 "nbformat": 4,
 "nbformat_minor": 5
}
